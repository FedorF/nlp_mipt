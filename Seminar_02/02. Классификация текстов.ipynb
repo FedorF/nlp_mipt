{
 "cells": [
  {
   "cell_type": "markdown",
   "metadata": {},
   "source": [
    "# Семинар 2. Классификация текстов"
   ]
  },
  {
   "cell_type": "markdown",
   "metadata": {},
   "source": [
    "## Анализ тональности отзывов"
   ]
  },
  {
   "cell_type": "markdown",
   "metadata": {},
   "source": [
    "### Считаем и изучим датасет"
   ]
  },
  {
   "cell_type": "markdown",
   "metadata": {},
   "source": [
    "Скачайте и разархивируйте датасет в папку \"sentiment labelled sentences\" рядом с вашим jupyter-ноутбуком<br/>\n",
    "https://archive.ics.uci.edu/ml/datasets/Sentiment+Labelled+Sentences"
   ]
  },
  {
   "cell_type": "code",
   "execution_count": 405,
   "metadata": {
    "collapsed": true
   },
   "outputs": [],
   "source": [
    "import pandas as pd\n",
    "import numpy as np\n",
    "pd.set_option('display.max_colwidth', 500)"
   ]
  },
  {
   "cell_type": "code",
   "execution_count": 438,
   "metadata": {
    "collapsed": false
   },
   "outputs": [
    {
     "name": "stdout",
     "output_type": "stream",
     "text": [
      "02. Классификация текстов - идеи.ipynb\r\n",
      "02. Классификация текстов.ipynb\r\n",
      "\u001b[34m__pycache__\u001b[m\u001b[m\r\n",
      "\u001b[34msentiment labelled sentences\u001b[m\u001b[m\r\n",
      "twitter_settings.py\r\n"
     ]
    }
   ],
   "source": [
    "!ls"
   ]
  },
  {
   "cell_type": "code",
   "execution_count": 439,
   "metadata": {
    "collapsed": false
   },
   "outputs": [
    {
     "name": "stdout",
     "output_type": "stream",
     "text": [
      "amazon_cells_labelled.txt readme.txt\r\n",
      "imdb_labelled.txt         yelp_labelled.txt\r\n"
     ]
    }
   ],
   "source": [
    "!ls \"sentiment labelled sentences\""
   ]
  },
  {
   "cell_type": "code",
   "execution_count": 492,
   "metadata": {
    "collapsed": false,
    "deletable": true,
    "editable": true
   },
   "outputs": [],
   "source": [
    "ds = pd.read_csv(\"sentiment labelled sentences/amazon_cells_labelled.txt\", \n",
    "                 delimiter=\"\\t\", names=(\"text\", \"is_positive\"))"
   ]
  },
  {
   "cell_type": "code",
   "execution_count": 493,
   "metadata": {
    "collapsed": false
   },
   "outputs": [
    {
     "data": {
      "text/html": [
       "<div>\n",
       "<table border=\"1\" class=\"dataframe\">\n",
       "  <thead>\n",
       "    <tr style=\"text-align: right;\">\n",
       "      <th></th>\n",
       "      <th>text</th>\n",
       "      <th>is_positive</th>\n",
       "    </tr>\n",
       "  </thead>\n",
       "  <tbody>\n",
       "    <tr>\n",
       "      <th>0</th>\n",
       "      <td>So there is no way for me to plug it in here in the US unless I go by a converter.</td>\n",
       "      <td>0</td>\n",
       "    </tr>\n",
       "    <tr>\n",
       "      <th>1</th>\n",
       "      <td>Good case, Excellent value.</td>\n",
       "      <td>1</td>\n",
       "    </tr>\n",
       "    <tr>\n",
       "      <th>2</th>\n",
       "      <td>Great for the jawbone.</td>\n",
       "      <td>1</td>\n",
       "    </tr>\n",
       "    <tr>\n",
       "      <th>3</th>\n",
       "      <td>Tied to charger for conversations lasting more than 45 minutes.MAJOR PROBLEMS!!</td>\n",
       "      <td>0</td>\n",
       "    </tr>\n",
       "    <tr>\n",
       "      <th>4</th>\n",
       "      <td>The mic is great.</td>\n",
       "      <td>1</td>\n",
       "    </tr>\n",
       "  </tbody>\n",
       "</table>\n",
       "</div>"
      ],
      "text/plain": [
       "                                                                                 text  \\\n",
       "0  So there is no way for me to plug it in here in the US unless I go by a converter.   \n",
       "1                                                         Good case, Excellent value.   \n",
       "2                                                              Great for the jawbone.   \n",
       "3     Tied to charger for conversations lasting more than 45 minutes.MAJOR PROBLEMS!!   \n",
       "4                                                                   The mic is great.   \n",
       "\n",
       "   is_positive  \n",
       "0            0  \n",
       "1            1  \n",
       "2            1  \n",
       "3            0  \n",
       "4            1  "
      ]
     },
     "execution_count": 493,
     "metadata": {},
     "output_type": "execute_result"
    }
   ],
   "source": [
    "ds.head()"
   ]
  },
  {
   "cell_type": "code",
   "execution_count": 494,
   "metadata": {
    "collapsed": false
   },
   "outputs": [
    {
     "data": {
      "text/plain": [
       "1    500\n",
       "0    500\n",
       "Name: is_positive, dtype: int64"
      ]
     },
     "execution_count": 494,
     "metadata": {},
     "output_type": "execute_result"
    }
   ],
   "source": [
    "ds.is_positive.value_counts()"
   ]
  },
  {
   "cell_type": "markdown",
   "metadata": {},
   "source": [
    "### Построим Bag of words по текстам"
   ]
  },
  {
   "cell_type": "code",
   "execution_count": 495,
   "metadata": {
    "collapsed": true
   },
   "outputs": [],
   "source": [
    "from sklearn.feature_extraction.text import CountVectorizer\n",
    "\n",
    "vectorizer = CountVectorizer()#ngram_range=(1,2))\n",
    "X = vectorizer.fit_transform(ds.text)"
   ]
  },
  {
   "cell_type": "code",
   "execution_count": 496,
   "metadata": {
    "collapsed": false
   },
   "outputs": [
    {
     "data": {
      "text/plain": [
       "['10',\n",
       " '100',\n",
       " '11',\n",
       " '12',\n",
       " '13',\n",
       " '15',\n",
       " '15g',\n",
       " '18',\n",
       " '20',\n",
       " '2000',\n",
       " '2005',\n",
       " '2160',\n",
       " '24',\n",
       " '2mp',\n",
       " '325',\n",
       " '350',\n",
       " '375',\n",
       " '3o',\n",
       " '42',\n",
       " '44',\n",
       " '45',\n",
       " '4s',\n",
       " '50',\n",
       " '5020',\n",
       " '510',\n",
       " '5320',\n",
       " '680',\n",
       " '700w',\n",
       " '8125',\n",
       " '8525',\n",
       " '8530',\n",
       " 'abhor',\n",
       " 'ability',\n",
       " 'able',\n",
       " 'abound',\n",
       " 'about',\n",
       " 'above',\n",
       " 'absolutel',\n",
       " 'absolutely',\n",
       " 'ac',\n",
       " 'accept',\n",
       " 'acceptable',\n",
       " 'access',\n",
       " 'accessable',\n",
       " 'accessing',\n",
       " 'accessory',\n",
       " 'accessoryone',\n",
       " 'accidentally',\n",
       " 'accompanied',\n",
       " 'according',\n",
       " 'activate',\n",
       " 'activated',\n",
       " 'activesync',\n",
       " 'actually',\n",
       " 'ad',\n",
       " 'adapter',\n",
       " 'adapters',\n",
       " 'add',\n",
       " 'addition',\n",
       " 'additional',\n",
       " 'address',\n",
       " 'adhesive',\n",
       " 'adorable',\n",
       " 'advertised',\n",
       " 'advise',\n",
       " 'after',\n",
       " 'again',\n",
       " 'against',\n",
       " 'aggravating',\n",
       " 'ago',\n",
       " 'alarm',\n",
       " 'all',\n",
       " 'allot',\n",
       " 'allow',\n",
       " 'allowing',\n",
       " 'allows',\n",
       " 'almost',\n",
       " 'alone',\n",
       " 'along',\n",
       " 'alot',\n",
       " 'also',\n",
       " 'although',\n",
       " 'aluminum',\n",
       " 'always',\n",
       " 'am',\n",
       " 'amazed',\n",
       " 'amazing',\n",
       " 'amazon',\n",
       " 'amp',\n",
       " 'ample',\n",
       " 'an',\n",
       " 'and',\n",
       " 'angeles',\n",
       " 'angle',\n",
       " 'another',\n",
       " 'answer',\n",
       " 'ant',\n",
       " 'antena',\n",
       " 'anti',\n",
       " 'any',\n",
       " 'anyone',\n",
       " 'anything',\n",
       " 'anyway',\n",
       " 'anywhere',\n",
       " 'apart',\n",
       " 'apartment',\n",
       " 'apparently',\n",
       " 'appealing',\n",
       " 'appearance',\n",
       " 'appears',\n",
       " 'applifies',\n",
       " 'appointments',\n",
       " 'are',\n",
       " 'area',\n",
       " 'arguing',\n",
       " 'armband',\n",
       " 'around',\n",
       " 'arrival',\n",
       " 'arrived',\n",
       " 'as',\n",
       " 'asia',\n",
       " 'ask',\n",
       " 'aspect',\n",
       " 'assumed',\n",
       " 'at',\n",
       " 'atleast',\n",
       " 'att',\n",
       " 'attacked',\n",
       " 'attractive',\n",
       " 'audio',\n",
       " 'authentic',\n",
       " 'auto',\n",
       " 'available',\n",
       " 'average',\n",
       " 'avoid',\n",
       " 'avoiding',\n",
       " 'away',\n",
       " 'awesome',\n",
       " 'awful',\n",
       " 'awkward',\n",
       " 'awsome',\n",
       " 'back',\n",
       " 'background',\n",
       " 'backlight',\n",
       " 'bad',\n",
       " 'balance',\n",
       " 'bar',\n",
       " 'barely',\n",
       " 'bargain',\n",
       " 'bars',\n",
       " 'basement',\n",
       " 'basic',\n",
       " 'basically',\n",
       " 'batteries',\n",
       " 'battery',\n",
       " 'be',\n",
       " 'beat',\n",
       " 'beats',\n",
       " 'beautiful',\n",
       " 'because',\n",
       " 'bed',\n",
       " 'been',\n",
       " 'beep',\n",
       " 'beeping',\n",
       " 'before',\n",
       " 'behing',\n",
       " 'being',\n",
       " 'believe',\n",
       " 'bells',\n",
       " 'below',\n",
       " 'belt',\n",
       " 'bend',\n",
       " 'best',\n",
       " 'better',\n",
       " 'between',\n",
       " 'beware',\n",
       " 'big',\n",
       " 'biggest',\n",
       " 'bills',\n",
       " 'bit',\n",
       " 'bitpim',\n",
       " 'black',\n",
       " 'blackberry',\n",
       " 'blacktop',\n",
       " 'bland',\n",
       " 'blew',\n",
       " 'blue',\n",
       " 'blueant',\n",
       " 'bluetoooth',\n",
       " 'bluetooth',\n",
       " 'bluetooths',\n",
       " 'bmw',\n",
       " 'book',\n",
       " 'booking',\n",
       " 'boost',\n",
       " 'boot',\n",
       " 'bose',\n",
       " 'both',\n",
       " 'bother',\n",
       " 'bottom',\n",
       " 'bottowm',\n",
       " 'bought',\n",
       " 'bougth',\n",
       " 'boy',\n",
       " 'brand',\n",
       " 'break',\n",
       " 'breakage',\n",
       " 'breaking',\n",
       " 'breaks',\n",
       " 'brilliant',\n",
       " 'broke',\n",
       " 'broken',\n",
       " 'browser',\n",
       " 'browsing',\n",
       " 'bt',\n",
       " 'bt250v',\n",
       " 'bt50',\n",
       " 'bubbling',\n",
       " 'bucks',\n",
       " 'buds',\n",
       " 'build',\n",
       " 'built',\n",
       " 'bulky',\n",
       " 'bumpers',\n",
       " 'but',\n",
       " 'button',\n",
       " 'buttons',\n",
       " 'buy',\n",
       " 'buyer',\n",
       " 'buyers',\n",
       " 'buying',\n",
       " 'buyit',\n",
       " 'buzzing',\n",
       " 'by',\n",
       " 'ca',\n",
       " 'cable',\n",
       " 'cables',\n",
       " 'calendar',\n",
       " 'call',\n",
       " 'called',\n",
       " 'calls',\n",
       " 'came',\n",
       " 'camera',\n",
       " 'can',\n",
       " 'canal',\n",
       " 'cancellation',\n",
       " 'cancelling',\n",
       " 'cannot',\n",
       " 'cant',\n",
       " 'capability',\n",
       " 'capacity',\n",
       " 'car',\n",
       " 'card',\n",
       " 'care',\n",
       " 'careful',\n",
       " 'carried',\n",
       " 'carriers',\n",
       " 'carries',\n",
       " 'carry',\n",
       " 'case',\n",
       " 'cases',\n",
       " 'casing',\n",
       " 'cassette',\n",
       " 'cat',\n",
       " 'catching',\n",
       " 'caused',\n",
       " 'causing',\n",
       " 'cbr',\n",
       " 'cds',\n",
       " 'cell',\n",
       " 'cellphone',\n",
       " 'cellphones',\n",
       " 'cellular',\n",
       " 'cent',\n",
       " 'center',\n",
       " 'certain',\n",
       " 'certainly',\n",
       " 'changing',\n",
       " 'channel',\n",
       " 'charge',\n",
       " 'charged',\n",
       " 'charger',\n",
       " 'chargers',\n",
       " 'charges',\n",
       " 'charging',\n",
       " 'charm',\n",
       " 'cheap',\n",
       " 'cheaper',\n",
       " 'cheaply',\n",
       " 'cheapy',\n",
       " 'check',\n",
       " 'checked',\n",
       " 'child',\n",
       " 'china',\n",
       " 'chinese',\n",
       " 'choice',\n",
       " 'choices',\n",
       " 'christmas',\n",
       " 'cingulair',\n",
       " 'cingular',\n",
       " 'clarity',\n",
       " 'classy',\n",
       " 'clear',\n",
       " 'clearer',\n",
       " 'clearly',\n",
       " 'clever',\n",
       " 'clicks',\n",
       " 'clip',\n",
       " 'clipping',\n",
       " 'clips',\n",
       " 'clock',\n",
       " 'colleague',\n",
       " 'color',\n",
       " 'colored',\n",
       " 'colors',\n",
       " 'combination',\n",
       " 'come',\n",
       " 'comes',\n",
       " 'comfort',\n",
       " 'comfortable',\n",
       " 'comfortably',\n",
       " 'comfortible',\n",
       " 'coming',\n",
       " 'comments',\n",
       " 'commercials',\n",
       " 'communicate',\n",
       " 'communication',\n",
       " 'communications',\n",
       " 'commuter',\n",
       " 'company',\n",
       " 'comparably',\n",
       " 'compared',\n",
       " 'compete',\n",
       " 'competitors',\n",
       " 'complain',\n",
       " 'complained',\n",
       " 'complaint',\n",
       " 'complaints',\n",
       " 'completely',\n",
       " 'compliments',\n",
       " 'compromise',\n",
       " 'computer',\n",
       " 'concrete',\n",
       " 'conditions',\n",
       " 'confortable',\n",
       " 'confusing',\n",
       " 'connect',\n",
       " 'connected',\n",
       " 'connecting',\n",
       " 'connection',\n",
       " 'constantly',\n",
       " 'constructed',\n",
       " 'construction',\n",
       " 'consumer',\n",
       " 'contact',\n",
       " 'contacted',\n",
       " 'contacting',\n",
       " 'contacts',\n",
       " 'continue',\n",
       " 'continues',\n",
       " 'contract',\n",
       " 'control',\n",
       " 'controls',\n",
       " 'contstruct',\n",
       " 'convenient',\n",
       " 'conversation',\n",
       " 'conversations',\n",
       " 'converter',\n",
       " 'cool',\n",
       " 'copier',\n",
       " 'copy',\n",
       " 'corded',\n",
       " 'correctly',\n",
       " 'cost',\n",
       " 'costs',\n",
       " 'could',\n",
       " 'couldn',\n",
       " 'couldnt',\n",
       " 'counter',\n",
       " 'counterfeit',\n",
       " 'couple',\n",
       " 'coupon',\n",
       " 'course',\n",
       " 'cover',\n",
       " 'coverage',\n",
       " 'covered',\n",
       " 'crack',\n",
       " 'cracked',\n",
       " 'cradle',\n",
       " 'cradles',\n",
       " 'crap',\n",
       " 'crappy',\n",
       " 'crashed',\n",
       " 'crawl',\n",
       " 'creaks',\n",
       " 'crisp',\n",
       " 'cumbersome',\n",
       " 'current',\n",
       " 'currently',\n",
       " 'curve',\n",
       " 'customer',\n",
       " 'cut',\n",
       " 'cute',\n",
       " 'cutouts',\n",
       " 'cuts',\n",
       " 'd807',\n",
       " 'damage',\n",
       " 'darn',\n",
       " 'data',\n",
       " 'date',\n",
       " 'day',\n",
       " 'days',\n",
       " 'dead',\n",
       " 'deaf',\n",
       " 'deal',\n",
       " 'decade',\n",
       " 'decent',\n",
       " 'decision',\n",
       " 'defeats',\n",
       " 'defect',\n",
       " 'defective',\n",
       " 'deffinitely',\n",
       " 'definitely',\n",
       " 'definitly',\n",
       " 'delay',\n",
       " 'delivery',\n",
       " 'describe',\n",
       " 'described',\n",
       " 'description',\n",
       " 'design',\n",
       " 'designed',\n",
       " 'designs',\n",
       " 'despite',\n",
       " 'destination',\n",
       " 'destroying',\n",
       " 'detachable',\n",
       " 'detailed',\n",
       " 'development',\n",
       " 'device',\n",
       " 'devices',\n",
       " 'dialing',\n",
       " 'did',\n",
       " 'didn',\n",
       " 'died',\n",
       " 'dieing',\n",
       " 'different',\n",
       " 'difficult',\n",
       " 'directed',\n",
       " 'directions',\n",
       " 'directly',\n",
       " 'dirty',\n",
       " 'disapoinment',\n",
       " 'disapointing',\n",
       " 'disappoint',\n",
       " 'disappointed',\n",
       " 'disappointing',\n",
       " 'disappointment',\n",
       " 'discarded',\n",
       " 'discomfort',\n",
       " 'disconnected',\n",
       " 'discount',\n",
       " 'disgusting',\n",
       " 'display',\n",
       " 'displeased',\n",
       " 'disposable',\n",
       " 'dissapointed',\n",
       " 'dissapointing',\n",
       " 'distorted',\n",
       " 'distracting',\n",
       " 'dit',\n",
       " 'division',\n",
       " 'dna',\n",
       " 'do',\n",
       " 'docking',\n",
       " 'does',\n",
       " 'doesn',\n",
       " 'doing',\n",
       " 'dollar',\n",
       " 'don',\n",
       " 'done',\n",
       " 'dont',\n",
       " 'double',\n",
       " 'down',\n",
       " 'download',\n",
       " 'downloading',\n",
       " 'dozen',\n",
       " 'dozens',\n",
       " 'drain',\n",
       " 'drained',\n",
       " 'drains',\n",
       " 'drawback',\n",
       " 'driving',\n",
       " 'drivng',\n",
       " 'droid',\n",
       " 'drop',\n",
       " 'dropped',\n",
       " 'dropping',\n",
       " 'drops',\n",
       " 'dual',\n",
       " 'due',\n",
       " 'durable',\n",
       " 'during',\n",
       " 'dustpan',\n",
       " 'dying',\n",
       " 'e2',\n",
       " 'e715',\n",
       " 'each',\n",
       " 'ear',\n",
       " 'earbud',\n",
       " 'earbuds',\n",
       " 'earbugs',\n",
       " 'eargels',\n",
       " 'earlier',\n",
       " 'earpad',\n",
       " 'earphone',\n",
       " 'earphones',\n",
       " 'earpiece',\n",
       " 'earpieces',\n",
       " 'ears',\n",
       " 'earset',\n",
       " 'ease',\n",
       " 'easier',\n",
       " 'easily',\n",
       " 'easy',\n",
       " 'echo',\n",
       " 'edge',\n",
       " 'effect',\n",
       " 'effective',\n",
       " 'effects',\n",
       " 'effort',\n",
       " 'either',\n",
       " 'electronics',\n",
       " 'elegant',\n",
       " 'else',\n",
       " 'elsewhere',\n",
       " 'embarassing',\n",
       " 'embarrassing',\n",
       " 'embedded',\n",
       " 'encourage',\n",
       " 'end',\n",
       " 'ended',\n",
       " 'ends',\n",
       " 'engineered',\n",
       " 'enjoy',\n",
       " 'enough',\n",
       " 'enter',\n",
       " 'entertainment',\n",
       " 'entire',\n",
       " 'env',\n",
       " 'equipment',\n",
       " 'era',\n",
       " 'ergonomic',\n",
       " 'ericson',\n",
       " 'ericsson',\n",
       " 'especially',\n",
       " 'essentially',\n",
       " 'etc',\n",
       " 'europe',\n",
       " 'even',\n",
       " 'eventually',\n",
       " 'ever',\n",
       " 'every',\n",
       " 'everyday',\n",
       " 'everyone',\n",
       " 'everything',\n",
       " 'everywhere',\n",
       " 'exactly',\n",
       " 'exceeds',\n",
       " 'excelent',\n",
       " 'excellent',\n",
       " 'excels',\n",
       " 'except',\n",
       " 'exceptional',\n",
       " 'excessive',\n",
       " 'exchange',\n",
       " 'exchanged',\n",
       " 'excited',\n",
       " 'exclaim',\n",
       " 'excrutiatingly',\n",
       " 'exercise',\n",
       " 'existing',\n",
       " 'expect',\n",
       " 'expectations',\n",
       " 'expected',\n",
       " 'expensive',\n",
       " 'experience',\n",
       " 'experienced',\n",
       " 'explain',\n",
       " 'extended',\n",
       " 'exterior',\n",
       " 'external',\n",
       " 'extra',\n",
       " 'extremely',\n",
       " 'eye',\n",
       " 'fabulous',\n",
       " 'face',\n",
       " 'faceplates',\n",
       " 'fact',\n",
       " 'factor',\n",
       " 'failed',\n",
       " 'fails',\n",
       " 'fairly',\n",
       " 'fall',\n",
       " 'falling',\n",
       " 'falls',\n",
       " 'family',\n",
       " 'fantastic',\n",
       " 'far',\n",
       " 'fast',\n",
       " 'faster',\n",
       " 'father',\n",
       " 'favorite',\n",
       " 'feature',\n",
       " 'features',\n",
       " 'fee',\n",
       " 'feel',\n",
       " 'feels',\n",
       " 'feet',\n",
       " 'felt',\n",
       " 'few',\n",
       " 'fi',\n",
       " 'figure',\n",
       " 'file',\n",
       " 'finally',\n",
       " 'find',\n",
       " 'finds',\n",
       " 'fine',\n",
       " 'fingers',\n",
       " 'finished',\n",
       " 'fire',\n",
       " 'first',\n",
       " 'fit',\n",
       " 'fits',\n",
       " 'five',\n",
       " 'fixes',\n",
       " 'flash',\n",
       " 'flaw',\n",
       " 'flawed',\n",
       " 'flawless',\n",
       " 'flawlessly',\n",
       " 'flaws',\n",
       " 'flimsy',\n",
       " 'flip',\n",
       " 'flipphones',\n",
       " 'fliptop',\n",
       " 'floor',\n",
       " 'floppy',\n",
       " 'flops',\n",
       " 'flush',\n",
       " 'fm',\n",
       " 'followed',\n",
       " 'fond',\n",
       " 'fooled',\n",
       " 'for',\n",
       " 'forced',\n",
       " 'forever',\n",
       " 'forgeries',\n",
       " 'forget',\n",
       " 'forgot',\n",
       " 'form',\n",
       " 'found',\n",
       " 'four',\n",
       " 'fourth',\n",
       " 'fraction',\n",
       " 'free',\n",
       " 'freedom',\n",
       " 'freeway',\n",
       " 'freezes',\n",
       " 'frequently4',\n",
       " 'frequentyly',\n",
       " 'friendly',\n",
       " 'friends',\n",
       " 'frog',\n",
       " 'from',\n",
       " 'front',\n",
       " 'frustration',\n",
       " 'fry',\n",
       " 'ft',\n",
       " 'fulfills',\n",
       " 'full',\n",
       " 'fully',\n",
       " 'fun',\n",
       " 'function',\n",
       " 'functional',\n",
       " 'functionality',\n",
       " 'functions',\n",
       " 'funny',\n",
       " 'gadget',\n",
       " 'gadgets',\n",
       " 'games',\n",
       " 'garbage',\n",
       " 'garbled',\n",
       " 'gave',\n",
       " 'geeky',\n",
       " 'gels',\n",
       " 'generally',\n",
       " 'gentle',\n",
       " 'genuine',\n",
       " 'get',\n",
       " 'gets',\n",
       " 'getting',\n",
       " 'gimmick',\n",
       " 'girl',\n",
       " 'give',\n",
       " 'given',\n",
       " 'giving',\n",
       " 'glad',\n",
       " 'glare',\n",
       " 'glasses',\n",
       " 'glove',\n",
       " 'glued',\n",
       " 'go',\n",
       " 'goes',\n",
       " 'going',\n",
       " 'gonna',\n",
       " 'good',\n",
       " 'good7',\n",
       " 'gosh',\n",
       " 'got',\n",
       " 'gotten',\n",
       " 'graphics',\n",
       " 'great',\n",
       " 'greater',\n",
       " 'grey',\n",
       " 'grip',\n",
       " 'grtting',\n",
       " 'guess',\n",
       " 'gx2',\n",
       " 'h500',\n",
       " 'had',\n",
       " 'hair',\n",
       " 'hand',\n",
       " 'handheld',\n",
       " 'hands',\n",
       " 'handset',\n",
       " 'handsfree',\n",
       " 'handy',\n",
       " 'happened',\n",
       " 'happening',\n",
       " 'happens',\n",
       " 'happier',\n",
       " 'happy',\n",
       " 'hard',\n",
       " 'hardly',\n",
       " 'has',\n",
       " 'hat',\n",
       " 'hate',\n",
       " 'hated',\n",
       " 'haul',\n",
       " 'have',\n",
       " 'haven',\n",
       " 'having',\n",
       " 'he',\n",
       " 'headbands',\n",
       " 'headphones',\n",
       " 'headset',\n",
       " 'headsets',\n",
       " 'hear',\n",
       " 'hearing',\n",
       " 'heavy',\n",
       " 'help',\n",
       " 'helpful',\n",
       " 'here',\n",
       " 'hey',\n",
       " 'high',\n",
       " 'highest',\n",
       " 'highly',\n",
       " 'highy',\n",
       " 'hinge',\n",
       " 'hit',\n",
       " 'hitch',\n",
       " 'hold',\n",
       " 'holder',\n",
       " 'holding',\n",
       " 'holds',\n",
       " 'holster',\n",
       " 'home',\n",
       " 'hook',\n",
       " 'hoped',\n",
       " 'hoping',\n",
       " 'horrible',\n",
       " 'hot',\n",
       " 'hour',\n",
       " 'hours',\n",
       " 'hoursthe',\n",
       " 'house',\n",
       " 'how',\n",
       " 'however',\n",
       " 'hs850',\n",
       " 'huge',\n",
       " 'humans',\n",
       " 'humming',\n",
       " 'hundred',\n",
       " 'hurt',\n",
       " 'hybrid',\n",
       " 'hype',\n",
       " 'iam',\n",
       " 'idea',\n",
       " 'ideal',\n",
       " 'if',\n",
       " 'igo',\n",
       " 'ill',\n",
       " 'im',\n",
       " 'imac',\n",
       " 'images',\n",
       " 'imagine',\n",
       " 'immediately',\n",
       " 'important',\n",
       " 'impossible',\n",
       " 'impressed',\n",
       " 'impressive',\n",
       " 'improper',\n",
       " 'improve',\n",
       " 'improvement',\n",
       " 'in',\n",
       " 'inches',\n",
       " 'included',\n",
       " 'incoming',\n",
       " 'inconspicuous',\n",
       " 'increase',\n",
       " 'incrediable',\n",
       " 'incredible',\n",
       " 'incredibly',\n",
       " 'indoors',\n",
       " 'industrial',\n",
       " 'inexcusable',\n",
       " 'inexpensive',\n",
       " 'infatuated',\n",
       " 'inform',\n",
       " 'infra',\n",
       " 'infuriating',\n",
       " 'insert',\n",
       " 'inside',\n",
       " 'install',\n",
       " 'installed',\n",
       " 'instance',\n",
       " 'instead',\n",
       " 'instruction',\n",
       " 'instructions',\n",
       " 'integrated',\n",
       " 'intended',\n",
       " 'interested',\n",
       " 'interface',\n",
       " 'intermittently',\n",
       " 'internet',\n",
       " 'into',\n",
       " 'invented',\n",
       " 'investment',\n",
       " 'iphone',\n",
       " 'ipod',\n",
       " 'ipods',\n",
       " 'ir',\n",
       " 'irda',\n",
       " 'iriver',\n",
       " 'is',\n",
       " 'isn',\n",
       " 'issues',\n",
       " 'it',\n",
       " 'item',\n",
       " 'items',\n",
       " 'its',\n",
       " 'jabra',\n",
       " 'jabra350',\n",
       " 'jack',\n",
       " 'jawbone',\n",
       " 'jerks',\n",
       " 'jiggle',\n",
       " 'job',\n",
       " 'joke',\n",
       " 'joy',\n",
       " 'juice',\n",
       " 'junk',\n",
       " 'just',\n",
       " 'jx',\n",
       " 'keen',\n",
       " 'keep',\n",
       " 'keeping',\n",
       " 'keeps',\n",
       " 'kept',\n",
       " 'key',\n",
       " 'keyboard',\n",
       " 'keypad',\n",
       " 'keypads',\n",
       " 'keys',\n",
       " 'killer',\n",
       " 'kind',\n",
       " 'kindle',\n",
       " 'kitchen',\n",
       " 'kits',\n",
       " 'knock',\n",
       " 'know',\n",
       " 'knows',\n",
       " 'krussel',\n",
       " 'l7c',\n",
       " 'lacking',\n",
       " 'land',\n",
       " 'lap',\n",
       " 'laptop',\n",
       " 'large',\n",
       " 'last',\n",
       " 'lasted',\n",
       " 'lasting',\n",
       " 'lasts',\n",
       " 'latch',\n",
       " 'lately',\n",
       " 'later',\n",
       " 'latest',\n",
       " 'laughing',\n",
       " 'leaf',\n",
       " 'leaks',\n",
       " 'learned',\n",
       " 'least',\n",
       " 'leather',\n",
       " 'left',\n",
       " 'lense',\n",
       " 'leopard',\n",
       " 'less',\n",
       " 'lesson',\n",
       " 'let',\n",
       " 'letting',\n",
       " 'lg',\n",
       " 'life',\n",
       " 'light',\n",
       " 'lightly',\n",
       " 'lights',\n",
       " 'lightweight',\n",
       " 'like',\n",
       " 'liked',\n",
       " 'likes',\n",
       " 'line',\n",
       " 'linked',\n",
       " 'linking',\n",
       " 'linksys',\n",
       " 'listener',\n",
       " 'listening',\n",
       " 'lit',\n",
       " 'literally',\n",
       " 'little',\n",
       " 'living',\n",
       " 'll',\n",
       " 'loads',\n",
       " 'lock',\n",
       " 'locked',\n",
       " 'locks',\n",
       " 'logitech',\n",
       " 'long',\n",
       " 'longer',\n",
       " 'look',\n",
       " 'looking',\n",
       " 'looks',\n",
       " 'loop',\n",
       " 'loops',\n",
       " 'loose',\n",
       " 'looses',\n",
       " 'los',\n",
       " 'lose',\n",
       " 'lost',\n",
       " 'lot',\n",
       " 'lots',\n",
       " 'loud',\n",
       " 'louder',\n",
       " 'loudest',\n",
       " 'loudspeaker',\n",
       " 'lousy',\n",
       " 'love',\n",
       " 'loved',\n",
       " 'loves',\n",
       " 'low',\n",
       " 'luck',\n",
       " 'machine',\n",
       " 'made',\n",
       " 'magical',\n",
       " 'magnetic',\n",
       " 'mail',\n",
       " 'mainly',\n",
       " 'maintain',\n",
       " 'maintains',\n",
       " 'major',\n",
       " 'majority',\n",
       " 'make',\n",
       " 'makes',\n",
       " 'making',\n",
       " 'managed',\n",
       " 'management',\n",
       " 'manual',\n",
       " 'manufacturer',\n",
       " 'many',\n",
       " 'mark',\n",
       " 'market',\n",
       " 'match',\n",
       " 'material',\n",
       " 'max',\n",
       " 'may',\n",
       " 'me',\n",
       " 'means',\n",
       " 'mechanism',\n",
       " 'media',\n",
       " 'mediocre',\n",
       " 'mega',\n",
       " 'megapixels',\n",
       " ...]"
      ]
     },
     "execution_count": 496,
     "metadata": {},
     "output_type": "execute_result"
    }
   ],
   "source": [
    "# какие получились признаки\n",
    "vectorizer.get_feature_names()"
   ]
  },
  {
   "cell_type": "markdown",
   "metadata": {},
   "source": [
    "Посмотрим текст первого сообщения и какие признаки ему соответствуют."
   ]
  },
  {
   "cell_type": "code",
   "execution_count": 497,
   "metadata": {
    "collapsed": false
   },
   "outputs": [
    {
     "name": "stdout",
     "output_type": "stream",
     "text": [
      "So there is no way for me to plug it in here in the US unless I go by a converter.\n"
     ]
    }
   ],
   "source": [
    "print(ds.iloc[0].text)"
   ]
  },
  {
   "cell_type": "code",
   "execution_count": 498,
   "metadata": {
    "collapsed": false
   },
   "outputs": [
    {
     "data": {
      "text/plain": [
       "<1x1847 sparse matrix of type '<class 'numpy.int64'>'\n",
       "\twith 18 stored elements in Compressed Sparse Row format>"
      ]
     },
     "execution_count": 498,
     "metadata": {},
     "output_type": "execute_result"
    }
   ],
   "source": [
    "X[0]"
   ]
  },
  {
   "cell_type": "code",
   "execution_count": 499,
   "metadata": {
    "collapsed": false
   },
   "outputs": [
    {
     "data": {
      "text/plain": [
       "(scipy.sparse.csr.csr_matrix, scipy.sparse.csr.csr_matrix)"
      ]
     },
     "execution_count": 499,
     "metadata": {},
     "output_type": "execute_result"
    }
   ],
   "source": [
    "type(X), type(X[0])"
   ]
  },
  {
   "cell_type": "code",
   "execution_count": 500,
   "metadata": {
    "collapsed": false,
    "scrolled": true
   },
   "outputs": [
    {
     "data": {
      "text/plain": [
       "array([[0, 0, 0, ..., 0, 0, 0]])"
      ]
     },
     "execution_count": 500,
     "metadata": {},
     "output_type": "execute_result"
    }
   ],
   "source": [
    "X[0].toarray()"
   ]
  },
  {
   "cell_type": "code",
   "execution_count": 501,
   "metadata": {
    "collapsed": false
   },
   "outputs": [
    {
     "data": {
      "text/plain": [
       "(array([0, 0, 0, 0, 0, 0, 0, 0, 0, 0, 0, 0, 0, 0, 0, 0, 0, 0], dtype=int32),\n",
       " array([ 367,  233,  711, 1702, 1714, 1604,  762,  814,  857, 1212, 1640,\n",
       "         993,  653, 1766, 1074,  854, 1609, 1491], dtype=int32))"
      ]
     },
     "execution_count": 501,
     "metadata": {},
     "output_type": "execute_result"
    }
   ],
   "source": [
    "X[0].nonzero()"
   ]
  },
  {
   "cell_type": "code",
   "execution_count": 502,
   "metadata": {
    "collapsed": false
   },
   "outputs": [
    {
     "data": {
      "text/plain": [
       "array(['converter', 'by', 'go', 'unless', 'us', 'the', 'here', 'in', 'it',\n",
       "       'plug', 'to', 'me', 'for', 'way', 'no', 'is', 'there', 'so'], \n",
       "      dtype='<U15')"
      ]
     },
     "execution_count": 502,
     "metadata": {},
     "output_type": "execute_result"
    }
   ],
   "source": [
    "feature_names = np.array(vectorizer.get_feature_names())\n",
    "feature_names[X[0].nonzero()[1]]"
   ]
  },
  {
   "cell_type": "markdown",
   "metadata": {},
   "source": [
    "### Построим линейный классификатор и посчитаем точность определения тональности"
   ]
  },
  {
   "cell_type": "code",
   "execution_count": 512,
   "metadata": {
    "collapsed": false
   },
   "outputs": [
    {
     "name": "stdout",
     "output_type": "stream",
     "text": [
      "0.01 \t 0.734 0.0390384425919\n",
      "0.1 \t 0.786 0.0193390796058\n",
      "0.5 \t 0.804 0.0168522995464\n",
      "1 \t 0.808 0.0186010752377\n",
      "5 \t 0.825 0.0197484176581\n",
      "10 \t 0.825 0.0144913767462\n",
      "100 \t 0.819 0.0135646599663\n",
      "200 \t 0.822 0.0128840987267\n",
      "500 \t 0.823 0.0120830459736\n",
      "1000 \t 0.819 0.0165529453572\n",
      "10000 \t 0.816 0.012409673646\n",
      "15000 \t 0.822 0.013638181697\n",
      "20000 \t 0.818 0.00979795897113\n",
      "100000 \t 0.812 0.0172046505341\n"
     ]
    }
   ],
   "source": [
    "from sklearn.linear_model import LogisticRegression\n",
    "from sklearn.model_selection import cross_val_score\n",
    "\n",
    "for c in [0.01, 0.1, 0.5, 1, 5, 10, 100, 200, 500, 1000, 10000, 15000, 20000, 100000]:\n",
    "    #c = 1\n",
    "    cls = LogisticRegression(C=c)\n",
    "    res = cross_val_score(cls, X, ds.is_positive, scoring=\"accuracy\", cv=5)\n",
    "    print(c, '\\t', np.mean(res), np.std(res))"
   ]
  },
  {
   "cell_type": "code",
   "execution_count": 505,
   "metadata": {
    "collapsed": false
   },
   "outputs": [
    {
     "data": {
      "text/plain": [
       "array([ 0.83 ,  0.81 ,  0.775,  0.805,  0.82 ])"
      ]
     },
     "execution_count": 505,
     "metadata": {},
     "output_type": "execute_result"
    }
   ],
   "source": [
    "res"
   ]
  },
  {
   "cell_type": "markdown",
   "metadata": {},
   "source": [
    "### Посмотрим, какие признаки оказывают наибольшее влияние при классификации"
   ]
  },
  {
   "cell_type": "code",
   "execution_count": 506,
   "metadata": {
    "collapsed": false,
    "scrolled": true
   },
   "outputs": [
    {
     "name": "stdout",
     "output_type": "stream",
     "text": [
      "2.68046154681 \t great\n",
      "-2.31666302832 \t not\n",
      "2.05671952991 \t best\n",
      "2.04139328533 \t good\n",
      "1.99038595568 \t love\n",
      "1.94536715033 \t works\n",
      "-1.84311634346 \t poor\n",
      "1.79424382166 \t excellent\n",
      "1.57790478665 \t nice\n",
      "-1.49109825739 \t bad\n",
      "-1.4632335698 \t disappointed\n",
      "1.39168763505 \t easy\n",
      "1.35736649342 \t comfortable\n",
      "-1.34014358126 \t first\n",
      "1.28047308821 \t recommend\n",
      "-1.25966344179 \t money\n",
      "1.20364284735 \t well\n",
      "-1.1745488578 \t worst\n",
      "-1.17000731197 \t terrible\n",
      "-1.15806347669 \t disappointing\n",
      "-1.13226010835 \t doesn\n",
      "1.12615276257 \t price\n",
      "-1.09887390297 \t difficult\n",
      "1.08204384575 \t definitely\n",
      "-1.05175416843 \t waste\n",
      "-1.04859303273 \t don\n",
      "-1.03566975121 \t horrible\n",
      "-1.00923975602 \t old\n",
      "-0.931813593702 \t hear\n",
      "-0.929142247112 \t unreliable\n",
      "-0.920054433297 \t buying\n",
      "0.913542966229 \t any\n",
      "-0.893199876111 \t off\n",
      "0.884463162155 \t pleased\n",
      "-0.87425115519 \t if\n",
      "-0.869004945213 \t disappointment\n",
      "0.858719409438 \t everything\n",
      "0.858006459029 \t than\n",
      "-0.85762539574 \t none\n",
      "0.855884868112 \t without\n",
      "-0.841950709526 \t piece\n",
      "0.839879200567 \t sturdy\n",
      "-0.828733883799 \t then\n",
      "0.828080451108 \t order\n",
      "-0.825961661146 \t work\n",
      "-0.819731871818 \t crap\n",
      "0.818656763385 \t clear\n",
      "0.809152924812 \t couldn\n",
      "0.804642761641 \t must\n",
      "0.800266917878 \t awesome\n",
      "0.795181625043 \t glad\n",
      "-0.779348140112 \t me\n",
      "-0.772825523012 \t broke\n",
      "0.751253564538 \t perfectly\n",
      "-0.748254065359 \t in\n",
      "-0.747731321944 \t junk\n",
      "0.741031326435 \t happier\n",
      "0.729325017166 \t happy\n",
      "-0.728927717951 \t completely\n",
      "0.709599904754 \t original\n"
     ]
    }
   ],
   "source": [
    "# Обучим классификатор на подвыборке\n",
    "fraction = 900\n",
    "cls.fit(X[:fraction], ds.is_positive[:fraction])\n",
    "\n",
    "coef = cls.coef_[0]\n",
    "order = np.argsort(abs(coef))[::-1]\n",
    "\n",
    "for o in order[:60]:\n",
    "    print(coef[o], '\\t', vectorizer.get_feature_names()[o])"
   ]
  },
  {
   "cell_type": "code",
   "execution_count": 507,
   "metadata": {
    "collapsed": false
   },
   "outputs": [
    {
     "name": "stdout",
     "output_type": "stream",
     "text": [
      "0.0 \t land\n",
      "0.0 \t lap\n",
      "0.0 \t loose\n",
      "0.0 \t lasted\n",
      "0.0 \t leaf\n",
      "0.0 \t lense\n",
      "0.0 \t leopard\n",
      "0.0 \t z500a\n",
      "0.0 \t loops\n",
      "0.0 \t lightly\n"
     ]
    }
   ],
   "source": [
    "# Признаки, которые наш классификатор посчитал бесполезными\n",
    "for o in order[-10:]:\n",
    "    print(coef[o], '\\t', vectorizer.get_feature_names()[o])"
   ]
  },
  {
   "cell_type": "markdown",
   "metadata": {},
   "source": [
    "### Посмотрим на примеры работы классификатора "
   ]
  },
  {
   "cell_type": "code",
   "execution_count": 474,
   "metadata": {
    "collapsed": false
   },
   "outputs": [
    {
     "data": {
      "text/plain": [
       "array([1, 0, 0, 0])"
      ]
     },
     "execution_count": 474,
     "metadata": {},
     "output_type": "execute_result"
    }
   ],
   "source": [
    "sample = vectorizer.transform([\"good razor\", \"bad razor\", \"razor\", \"not bad\"])\n",
    "cls.predict(sample)"
   ]
  },
  {
   "cell_type": "code",
   "execution_count": 475,
   "metadata": {
    "collapsed": false
   },
   "outputs": [
    {
     "data": {
      "text/plain": [
       "array([[  1.09651551e-04,   9.99890348e-01],\n",
       "       [  9.99939468e-01,   6.05319758e-05],\n",
       "       [  5.64572630e-01,   4.35427370e-01],\n",
       "       [  1.00000000e+00,   3.44950824e-11]])"
      ]
     },
     "execution_count": 475,
     "metadata": {},
     "output_type": "execute_result"
    }
   ],
   "source": [
    "cls.predict_proba(sample)"
   ]
  },
  {
   "cell_type": "code",
   "execution_count": 476,
   "metadata": {
    "collapsed": false
   },
   "outputs": [],
   "source": [
    "ds['prediction'] = cls.predict(X)\n",
    "ds['prediction_proba'] = cls.predict_proba(X)[:,1]\n",
    "ds['confidence'] = np.abs(ds.prediction_proba - 0.5)*2"
   ]
  },
  {
   "cell_type": "code",
   "execution_count": 477,
   "metadata": {
    "collapsed": false
   },
   "outputs": [
    {
     "data": {
      "text/html": [
       "<div>\n",
       "<table border=\"1\" class=\"dataframe\">\n",
       "  <thead>\n",
       "    <tr style=\"text-align: right;\">\n",
       "      <th></th>\n",
       "      <th>text</th>\n",
       "      <th>is_positive</th>\n",
       "      <th>prediction</th>\n",
       "      <th>prediction_proba</th>\n",
       "      <th>confidence</th>\n",
       "    </tr>\n",
       "  </thead>\n",
       "  <tbody>\n",
       "    <tr>\n",
       "      <th>900</th>\n",
       "      <td>This was utterly confusing at first, which caused me to lose a couple of very, very important contacts.</td>\n",
       "      <td>0</td>\n",
       "      <td>0</td>\n",
       "      <td>0.000002</td>\n",
       "      <td>0.999996</td>\n",
       "    </tr>\n",
       "    <tr>\n",
       "      <th>901</th>\n",
       "      <td>Terrible phone holder.</td>\n",
       "      <td>0</td>\n",
       "      <td>0</td>\n",
       "      <td>0.000227</td>\n",
       "      <td>0.999545</td>\n",
       "    </tr>\n",
       "    <tr>\n",
       "      <th>902</th>\n",
       "      <td>The cutouts and buttons are placed perfectly.</td>\n",
       "      <td>1</td>\n",
       "      <td>1</td>\n",
       "      <td>0.999971</td>\n",
       "      <td>0.999943</td>\n",
       "    </tr>\n",
       "    <tr>\n",
       "      <th>903</th>\n",
       "      <td>I love being able to use one headset for both by land-line and cell.</td>\n",
       "      <td>1</td>\n",
       "      <td>1</td>\n",
       "      <td>1.000000</td>\n",
       "      <td>1.000000</td>\n",
       "    </tr>\n",
       "    <tr>\n",
       "      <th>904</th>\n",
       "      <td>Problem is that the ear loops are made of weak material and break easily.</td>\n",
       "      <td>0</td>\n",
       "      <td>0</td>\n",
       "      <td>0.000883</td>\n",
       "      <td>0.998234</td>\n",
       "    </tr>\n",
       "  </tbody>\n",
       "</table>\n",
       "</div>"
      ],
      "text/plain": [
       "                                                                                                        text  \\\n",
       "900  This was utterly confusing at first, which caused me to lose a couple of very, very important contacts.   \n",
       "901                                                                                   Terrible phone holder.   \n",
       "902                                                            The cutouts and buttons are placed perfectly.   \n",
       "903                                     I love being able to use one headset for both by land-line and cell.   \n",
       "904                                Problem is that the ear loops are made of weak material and break easily.   \n",
       "\n",
       "     is_positive  prediction  prediction_proba  confidence  \n",
       "900            0           0          0.000002    0.999996  \n",
       "901            0           0          0.000227    0.999545  \n",
       "902            1           1          0.999971    0.999943  \n",
       "903            1           1          1.000000    1.000000  \n",
       "904            0           0          0.000883    0.998234  "
      ]
     },
     "execution_count": 477,
     "metadata": {},
     "output_type": "execute_result"
    }
   ],
   "source": [
    "ds[fraction:].head()"
   ]
  },
  {
   "cell_type": "code",
   "execution_count": 478,
   "metadata": {
    "collapsed": false
   },
   "outputs": [],
   "source": [
    "#errors.sort_values('prediction_proba', ascending=False).head()"
   ]
  },
  {
   "cell_type": "markdown",
   "metadata": {},
   "source": [
    "### Посмотрим на ошибки классификатора"
   ]
  },
  {
   "cell_type": "code",
   "execution_count": 479,
   "metadata": {
    "collapsed": false
   },
   "outputs": [
    {
     "data": {
      "text/html": [
       "<div>\n",
       "<table border=\"1\" class=\"dataframe\">\n",
       "  <thead>\n",
       "    <tr style=\"text-align: right;\">\n",
       "      <th></th>\n",
       "      <th>text</th>\n",
       "      <th>is_positive</th>\n",
       "      <th>prediction</th>\n",
       "      <th>prediction_proba</th>\n",
       "      <th>confidence</th>\n",
       "    </tr>\n",
       "  </thead>\n",
       "  <tbody>\n",
       "    <tr>\n",
       "      <th>934</th>\n",
       "      <td>You get extra minutes so that you can carry out the call and not get cut off.\"</td>\n",
       "      <td>1</td>\n",
       "      <td>0</td>\n",
       "      <td>1.383152e-14</td>\n",
       "      <td>1.000000</td>\n",
       "    </tr>\n",
       "    <tr>\n",
       "      <th>914</th>\n",
       "      <td>My phone sounded OK ( not great - OK), but my wife's phone was almost totally unintelligible, she couldn't understand a word being said on it.</td>\n",
       "      <td>0</td>\n",
       "      <td>1</td>\n",
       "      <td>1.000000e+00</td>\n",
       "      <td>1.000000</td>\n",
       "    </tr>\n",
       "    <tr>\n",
       "      <th>911</th>\n",
       "      <td>So I bought about 10 of these and saved alot of money.</td>\n",
       "      <td>1</td>\n",
       "      <td>0</td>\n",
       "      <td>4.948956e-06</td>\n",
       "      <td>0.999990</td>\n",
       "    </tr>\n",
       "    <tr>\n",
       "      <th>946</th>\n",
       "      <td>I have had mine for about a year and this Christmas I bought some for the rest of the family.</td>\n",
       "      <td>1</td>\n",
       "      <td>0</td>\n",
       "      <td>5.010142e-06</td>\n",
       "      <td>0.999990</td>\n",
       "    </tr>\n",
       "    <tr>\n",
       "      <th>908</th>\n",
       "      <td>I can hear while I'm driving in the car, and usually don't even have to put it on it's loudest setting.</td>\n",
       "      <td>1</td>\n",
       "      <td>0</td>\n",
       "      <td>7.868972e-06</td>\n",
       "      <td>0.999984</td>\n",
       "    </tr>\n",
       "    <tr>\n",
       "      <th>985</th>\n",
       "      <td>There was so much hype over this phone that I assumed it was the best, my mistake.</td>\n",
       "      <td>0</td>\n",
       "      <td>1</td>\n",
       "      <td>9.999815e-01</td>\n",
       "      <td>0.999963</td>\n",
       "    </tr>\n",
       "    <tr>\n",
       "      <th>974</th>\n",
       "      <td>This phone tries very hard to do everything but fails at it's very ability to be a phone.</td>\n",
       "      <td>0</td>\n",
       "      <td>1</td>\n",
       "      <td>9.999417e-01</td>\n",
       "      <td>0.999883</td>\n",
       "    </tr>\n",
       "    <tr>\n",
       "      <th>962</th>\n",
       "      <td>Also makes it easier to hold on to.</td>\n",
       "      <td>1</td>\n",
       "      <td>0</td>\n",
       "      <td>3.101732e-03</td>\n",
       "      <td>0.993797</td>\n",
       "    </tr>\n",
       "    <tr>\n",
       "      <th>913</th>\n",
       "      <td>Couldn't figure it out</td>\n",
       "      <td>0</td>\n",
       "      <td>1</td>\n",
       "      <td>9.946530e-01</td>\n",
       "      <td>0.989306</td>\n",
       "    </tr>\n",
       "    <tr>\n",
       "      <th>992</th>\n",
       "      <td>Lasted one day and then blew up.</td>\n",
       "      <td>0</td>\n",
       "      <td>1</td>\n",
       "      <td>9.884404e-01</td>\n",
       "      <td>0.976881</td>\n",
       "    </tr>\n",
       "    <tr>\n",
       "      <th>921</th>\n",
       "      <td>It also had a new problem.</td>\n",
       "      <td>0</td>\n",
       "      <td>1</td>\n",
       "      <td>9.821821e-01</td>\n",
       "      <td>0.964364</td>\n",
       "    </tr>\n",
       "    <tr>\n",
       "      <th>958</th>\n",
       "      <td>I really like this product over the Motorola because it is allot clearer on the ear piece and the mic.</td>\n",
       "      <td>1</td>\n",
       "      <td>0</td>\n",
       "      <td>3.527446e-02</td>\n",
       "      <td>0.929451</td>\n",
       "    </tr>\n",
       "    <tr>\n",
       "      <th>995</th>\n",
       "      <td>The screen does get smudged easily because it touches your ear and face.</td>\n",
       "      <td>0</td>\n",
       "      <td>1</td>\n",
       "      <td>8.356928e-01</td>\n",
       "      <td>0.671386</td>\n",
       "    </tr>\n",
       "    <tr>\n",
       "      <th>955</th>\n",
       "      <td>Buttons are too small.</td>\n",
       "      <td>0</td>\n",
       "      <td>1</td>\n",
       "      <td>7.890687e-01</td>\n",
       "      <td>0.578137</td>\n",
       "    </tr>\n",
       "    <tr>\n",
       "      <th>966</th>\n",
       "      <td>however, my girl was complain that some time the phone doesn't wake up like normal phone does.</td>\n",
       "      <td>0</td>\n",
       "      <td>1</td>\n",
       "      <td>7.777562e-01</td>\n",
       "      <td>0.555512</td>\n",
       "    </tr>\n",
       "    <tr>\n",
       "      <th>950</th>\n",
       "      <td>It is a joy to use.</td>\n",
       "      <td>1</td>\n",
       "      <td>0</td>\n",
       "      <td>3.034425e-01</td>\n",
       "      <td>0.393115</td>\n",
       "    </tr>\n",
       "    <tr>\n",
       "      <th>956</th>\n",
       "      <td>Just reading on the specs alone makes you say WOW.</td>\n",
       "      <td>1</td>\n",
       "      <td>0</td>\n",
       "      <td>3.197367e-01</td>\n",
       "      <td>0.360527</td>\n",
       "    </tr>\n",
       "    <tr>\n",
       "      <th>938</th>\n",
       "      <td>Logitech Bluetooth Headset is a 10!.</td>\n",
       "      <td>1</td>\n",
       "      <td>0</td>\n",
       "      <td>3.528537e-01</td>\n",
       "      <td>0.294293</td>\n",
       "    </tr>\n",
       "    <tr>\n",
       "      <th>930</th>\n",
       "      <td>Never got it!!!!!</td>\n",
       "      <td>0</td>\n",
       "      <td>1</td>\n",
       "      <td>6.175103e-01</td>\n",
       "      <td>0.235021</td>\n",
       "    </tr>\n",
       "    <tr>\n",
       "      <th>978</th>\n",
       "      <td>It fits so securely that the ear hook does not even need to be used and the sound is better directed through your ear canal.</td>\n",
       "      <td>1</td>\n",
       "      <td>0</td>\n",
       "      <td>4.091621e-01</td>\n",
       "      <td>0.181676</td>\n",
       "    </tr>\n",
       "    <tr>\n",
       "      <th>977</th>\n",
       "      <td>:-)Oh, the charger seems to work fine.</td>\n",
       "      <td>1</td>\n",
       "      <td>0</td>\n",
       "      <td>4.139167e-01</td>\n",
       "      <td>0.172167</td>\n",
       "    </tr>\n",
       "  </tbody>\n",
       "</table>\n",
       "</div>"
      ],
      "text/plain": [
       "                                                                                                                                               text  \\\n",
       "934                                                                  You get extra minutes so that you can carry out the call and not get cut off.\"   \n",
       "914  My phone sounded OK ( not great - OK), but my wife's phone was almost totally unintelligible, she couldn't understand a word being said on it.   \n",
       "911                                                                                          So I bought about 10 of these and saved alot of money.   \n",
       "946                                                   I have had mine for about a year and this Christmas I bought some for the rest of the family.   \n",
       "908                                         I can hear while I'm driving in the car, and usually don't even have to put it on it's loudest setting.   \n",
       "985                                                              There was so much hype over this phone that I assumed it was the best, my mistake.   \n",
       "974                                                       This phone tries very hard to do everything but fails at it's very ability to be a phone.   \n",
       "962                                                                                                             Also makes it easier to hold on to.   \n",
       "913                                                                                                                          Couldn't figure it out   \n",
       "992                                                                                                                Lasted one day and then blew up.   \n",
       "921                                                                                                                      It also had a new problem.   \n",
       "958                                          I really like this product over the Motorola because it is allot clearer on the ear piece and the mic.   \n",
       "995                                                                        The screen does get smudged easily because it touches your ear and face.   \n",
       "955                                                                                                                          Buttons are too small.   \n",
       "966                                                  however, my girl was complain that some time the phone doesn't wake up like normal phone does.   \n",
       "950                                                                                                                             It is a joy to use.   \n",
       "956                                                                                              Just reading on the specs alone makes you say WOW.   \n",
       "938                                                                                                            Logitech Bluetooth Headset is a 10!.   \n",
       "930                                                                                                                               Never got it!!!!!   \n",
       "978                    It fits so securely that the ear hook does not even need to be used and the sound is better directed through your ear canal.   \n",
       "977                                                                                                          :-)Oh, the charger seems to work fine.   \n",
       "\n",
       "     is_positive  prediction  prediction_proba  confidence  \n",
       "934            1           0      1.383152e-14    1.000000  \n",
       "914            0           1      1.000000e+00    1.000000  \n",
       "911            1           0      4.948956e-06    0.999990  \n",
       "946            1           0      5.010142e-06    0.999990  \n",
       "908            1           0      7.868972e-06    0.999984  \n",
       "985            0           1      9.999815e-01    0.999963  \n",
       "974            0           1      9.999417e-01    0.999883  \n",
       "962            1           0      3.101732e-03    0.993797  \n",
       "913            0           1      9.946530e-01    0.989306  \n",
       "992            0           1      9.884404e-01    0.976881  \n",
       "921            0           1      9.821821e-01    0.964364  \n",
       "958            1           0      3.527446e-02    0.929451  \n",
       "995            0           1      8.356928e-01    0.671386  \n",
       "955            0           1      7.890687e-01    0.578137  \n",
       "966            0           1      7.777562e-01    0.555512  \n",
       "950            1           0      3.034425e-01    0.393115  \n",
       "956            1           0      3.197367e-01    0.360527  \n",
       "938            1           0      3.528537e-01    0.294293  \n",
       "930            0           1      6.175103e-01    0.235021  \n",
       "978            1           0      4.091621e-01    0.181676  \n",
       "977            1           0      4.139167e-01    0.172167  "
      ]
     },
     "execution_count": 479,
     "metadata": {},
     "output_type": "execute_result"
    }
   ],
   "source": [
    "errors = ds.loc[ds.is_positive != ds.prediction]\n",
    "errors.sort_values('confidence', ascending=False)"
   ]
  },
  {
   "cell_type": "markdown",
   "metadata": {},
   "source": [
    "### N-граммы"
   ]
  },
  {
   "cell_type": "markdown",
   "metadata": {},
   "source": [
    "Раскомментируйте настройку CountVectorizer выше и прогоните ноутбук еще раз:"
   ]
  },
  {
   "cell_type": "raw",
   "metadata": {},
   "source": [
    "vectorizer = CountVectorizer(ngram_range=(1,2))"
   ]
  },
  {
   "cell_type": "markdown",
   "metadata": {},
   "source": [
    "Среди важных признаков появляются двусловные. Качество возрастает, но незначительно.<br/>\n",
    "Это может быть связано с тем, что количество признаков резко возрастает и у классификатора появляется больше возможностей переобучиться."
   ]
  },
  {
   "cell_type": "markdown",
   "metadata": {},
   "source": [
    "### Неустойчивость при смене корпуса"
   ]
  },
  {
   "cell_type": "markdown",
   "metadata": {},
   "source": [
    "Теперь применим наш классификатор к другому корпусу и посмотрим получившееся на качество"
   ]
  },
  {
   "cell_type": "code",
   "execution_count": 519,
   "metadata": {
    "collapsed": false
   },
   "outputs": [
    {
     "name": "stdout",
     "output_type": "stream",
     "text": [
      "amazon_cells_labelled.txt readme.txt\r\n",
      "imdb_labelled.txt         yelp_labelled.txt\r\n"
     ]
    }
   ],
   "source": [
    "# Вспомним, какие еще у нас есть файлы\n",
    "!ls 'sentiment labelled sentences/'"
   ]
  },
  {
   "cell_type": "code",
   "execution_count": 481,
   "metadata": {
    "collapsed": true
   },
   "outputs": [],
   "source": [
    "imdb = pd.read_csv(\"sentiment labelled sentences/imdb_labelled.txt\", \n",
    "                   delimiter=\"\\t\", names=(\"text\", \"is_positive\"))\n",
    "yelp = pd.read_csv(\"sentiment labelled sentences/yelp_labelled.txt\", \n",
    "                   delimiter=\"\\t\", names=(\"text\", \"is_positive\"))"
   ]
  },
  {
   "cell_type": "code",
   "execution_count": 491,
   "metadata": {
    "collapsed": false
   },
   "outputs": [],
   "source": [
    "X_imdb = vectorizer.transform(imdb.text)\n",
    "X_yelp = vectorizer.transform(yelp.text)\n",
    "imdb['prediction'] = cls.predict(X_imdb)\n",
    "yelp['prediction'] = cls.predict(X_yelp)\n",
    "\n",
    "#imdb.loc[imdb.is_positive != imdb.prediction]"
   ]
  },
  {
   "cell_type": "code",
   "execution_count": 490,
   "metadata": {
    "collapsed": false
   },
   "outputs": [
    {
     "name": "stdout",
     "output_type": "stream",
     "text": [
      "0.636363636364\n",
      "0.724\n"
     ]
    }
   ],
   "source": [
    "from sklearn.metrics import accuracy_score\n",
    "print(accuracy_score(imdb.is_positive, imdb.prediction))\n",
    "print(accuracy_score(yelp.is_positive, yelp.prediction) )"
   ]
  },
  {
   "cell_type": "markdown",
   "metadata": {},
   "source": [
    "Качество сильно проседает при смене корпуса. Это частая проблема при работе с текстами, о которой нужно помнить."
   ]
  },
  {
   "cell_type": "markdown",
   "metadata": {},
   "source": [
    "### TF*IDF"
   ]
  },
  {
   "cell_type": "code",
   "execution_count": 513,
   "metadata": {
    "collapsed": false
   },
   "outputs": [
    {
     "name": "stdout",
     "output_type": "stream",
     "text": [
      "0.789 0.0346987031458\n",
      "0.789 0.0351283361405\n",
      "0.803 0.0254165300543\n",
      "0.813 0.0227156333832\n",
      "0.827 0.0208806130178\n",
      "0.83 0.0154919333848\n",
      "0.824 0.0128062484749\n",
      "0.829 0.010677078252\n",
      "0.828 0.0132664991614\n",
      "0.829 0.012409673646\n",
      "0.829 0.012\n",
      "0.829 0.012\n",
      "0.828 0.0128840987267\n",
      "0.823 0.0201494416796\n"
     ]
    }
   ],
   "source": [
    "from sklearn.feature_extraction.text import TfidfVectorizer\n",
    "\n",
    "tfidf = TfidfVectorizer()\n",
    "X_tfidf = tfidf.fit_transform(ds.text)\n",
    "\n",
    "for c in [0.01, 0.1, 0.5, 1, 5, 10, 100, 200, 500, 1000, 10000, 15000, 20000, 100000]:\n",
    "    cls = LogisticRegression(C=c)\n",
    "    res = cross_val_score(cls, X_tfidf, ds.is_positive, scoring=\"accuracy\", cv=5)\n",
    "    print(np.mean(res), np.std(res))"
   ]
  },
  {
   "cell_type": "markdown",
   "metadata": {},
   "source": [
    "В случае с короткими текстами TF*IDF вряд ли сильно поможет, т.к. tf == 1 почти всегда.<br/>\n",
    "Получается, помочь может только idf, который увеличивает или уменьшает вес признака для всех сэмплов сразу."
   ]
  },
  {
   "cell_type": "markdown",
   "metadata": {},
   "source": [
    "### Pipeline"
   ]
  },
  {
   "cell_type": "code",
   "execution_count": 514,
   "metadata": {
    "collapsed": false
   },
   "outputs": [
    {
     "name": "stdout",
     "output_type": "stream",
     "text": [
      "0.833 0.0273130005675\n"
     ]
    }
   ],
   "source": [
    "from sklearn.pipeline import Pipeline\n",
    "\n",
    "text_processing_pipeline = Pipeline([\n",
    "        ('Vectorizer', TfidfVectorizer(ngram_range=(1, 2))),\n",
    "        ('Classifier', LogisticRegression(C=500))\n",
    "    ])\n",
    "\n",
    "res = cross_val_score(text_processing_pipeline, ds.text, ds.is_positive, scoring=\"accuracy\", cv=5)\n",
    "print(np.mean(res), np.std(res))"
   ]
  },
  {
   "cell_type": "markdown",
   "metadata": {},
   "source": [
    "### Бейзлайн по тональности"
   ]
  },
  {
   "cell_type": "code",
   "execution_count": 520,
   "metadata": {
    "collapsed": true
   },
   "outputs": [],
   "source": [
    "# Объединим все три датасета в один"
   ]
  },
  {
   "cell_type": "code",
   "execution_count": 524,
   "metadata": {
    "collapsed": false
   },
   "outputs": [],
   "source": [
    "reviews = ds.append(imdb).append(yelp)"
   ]
  },
  {
   "cell_type": "code",
   "execution_count": 534,
   "metadata": {
    "collapsed": false
   },
   "outputs": [
    {
     "data": {
      "text/plain": [
       "(2748, 3)"
      ]
     },
     "execution_count": 534,
     "metadata": {},
     "output_type": "execute_result"
    }
   ],
   "source": [
    "reviews.shape"
   ]
  },
  {
   "cell_type": "code",
   "execution_count": 535,
   "metadata": {
    "collapsed": false
   },
   "outputs": [
    {
     "name": "stdout",
     "output_type": "stream",
     "text": [
      "0.826031929782 0.0270132991861\n"
     ]
    }
   ],
   "source": [
    "res = cross_val_score(text_processing_pipeline, reviews.text, reviews.is_positive, scoring=\"accuracy\", cv=5)\n",
    "print(np.mean(res), np.std(res))"
   ]
  },
  {
   "cell_type": "markdown",
   "metadata": {},
   "source": [
    "### Замечание о качестве датасета"
   ]
  },
  {
   "cell_type": "markdown",
   "metadata": {},
   "source": [
    "### См. бонус"
   ]
  },
  {
   "cell_type": "markdown",
   "metadata": {},
   "source": [
    "## Классификация по темам"
   ]
  },
  {
   "cell_type": "code",
   "execution_count": 369,
   "metadata": {
    "collapsed": false
   },
   "outputs": [],
   "source": [
    "from sklearn.datasets import fetch_20newsgroups\n",
    "newsgroups = fetch_20newsgroups(remove=('headers', 'footers', 'quotes'), categories=['comp.windows.x', 'rec.autos', 'sci.med'])"
   ]
  },
  {
   "cell_type": "code",
   "execution_count": 370,
   "metadata": {
    "collapsed": false
   },
   "outputs": [
    {
     "data": {
      "text/plain": [
       "['comp.windows.x', 'rec.autos', 'sci.med']"
      ]
     },
     "execution_count": 370,
     "metadata": {},
     "output_type": "execute_result"
    }
   ],
   "source": [
    "# Имена классов\n",
    "newsgroups.target_names"
   ]
  },
  {
   "cell_type": "code",
   "execution_count": 371,
   "metadata": {
    "collapsed": true,
    "deletable": true,
    "editable": true
   },
   "outputs": [],
   "source": [
    "vectorizer = CountVectorizer()#ngram_range=(2,2))\n",
    "X = vectorizer.fit_transform(newsgroups.data)"
   ]
  },
  {
   "cell_type": "code",
   "execution_count": 375,
   "metadata": {
    "collapsed": false
   },
   "outputs": [
    {
     "name": "stdout",
     "output_type": "stream",
     "text": [
      "0.87411311916 0.00541315872889\n"
     ]
    }
   ],
   "source": [
    "from sklearn.linear_model import LogisticRegression\n",
    "from sklearn.model_selection import cross_val_score\n",
    "\n",
    "#for c in [0.01, 0.1, 0.5, 1, 5, 10, 100, 200, 500, 1000, 10000, 15000, 20000, 100000]:\n",
    "cls = LogisticRegression()#C=c)\n",
    "res = cross_val_score(cls, X, newsgroups.target, scoring=\"f1_macro\", cv=3)\n",
    "print(np.mean(res), np.std(res))"
   ]
  },
  {
   "cell_type": "markdown",
   "metadata": {},
   "source": [
    "## Самостоятельная работа"
   ]
  },
  {
   "cell_type": "markdown",
   "metadata": {},
   "source": [
    "Вам предстоит улучшить качество классификаторов относительно полученных выше бейзлайнов.<br/>\n",
    "Ниже предложены некоторые идеи, которые могут помочь вам добиться этого.<br/>\n",
    "Воспользуйтесь ими, или предложите свой подход<br/>\n"
   ]
  },
  {
   "cell_type": "markdown",
   "metadata": {},
   "source": [
    "### Настройка гиперпараметров классификатора"
   ]
  },
  {
   "cell_type": "markdown",
   "metadata": {},
   "source": [
    "Подберите наилучшие параметры векторайзера (напр. использовать tf*idf, n-граммы) и классификатора (напр. регуляризатор и коэффициент регуляризации), воспользовавшись модулем grid_search библиотеки scikit-learn<br/>\n",
    "http://scikit-learn.org/stable/modules/grid_search.html <br/>\n",
    "http://scikit-learn.org/stable/modules/generated/sklearn.model_selection.GridSearchCV.html"
   ]
  },
  {
   "cell_type": "code",
   "execution_count": null,
   "metadata": {
    "collapsed": true
   },
   "outputs": [],
   "source": []
  },
  {
   "cell_type": "markdown",
   "metadata": {},
   "source": [
    "### Подбор классификаторов"
   ]
  },
  {
   "cell_type": "markdown",
   "metadata": {},
   "source": [
    "Попробуйте использовать другие классификаторы из библиотеки scikit-learn (не забывайте для них тоже подбирать наилучшие гиперпараметры)<br/>\n",
    "http://scikit-learn.org/stable/supervised_learning.html"
   ]
  },
  {
   "cell_type": "code",
   "execution_count": null,
   "metadata": {
    "collapsed": true
   },
   "outputs": [],
   "source": []
  },
  {
   "cell_type": "markdown",
   "metadata": {},
   "source": [
    "### Фильтрация стоп-слов"
   ]
  },
  {
   "cell_type": "markdown",
   "metadata": {},
   "source": [
    "Исключите из признаков стоп-слова (см. семинар 1). Это может уменьшить переобучение классификатора."
   ]
  },
  {
   "cell_type": "code",
   "execution_count": null,
   "metadata": {
    "collapsed": true
   },
   "outputs": [],
   "source": []
  },
  {
   "cell_type": "markdown",
   "metadata": {},
   "source": [
    "### Использование стемминга и лемматизации"
   ]
  },
  {
   "cell_type": "markdown",
   "metadata": {},
   "source": [
    "Предобработайте текст, использовав стемминг или лемматизацию (см. семинар 1).\n"
   ]
  },
  {
   "cell_type": "code",
   "execution_count": null,
   "metadata": {
    "collapsed": true
   },
   "outputs": [],
   "source": []
  },
  {
   "cell_type": "markdown",
   "metadata": {},
   "source": [
    "### Отбор признаков"
   ]
  },
  {
   "cell_type": "markdown",
   "metadata": {},
   "source": [
    "http://scikit-learn.org/stable/modules/feature_selection.html"
   ]
  },
  {
   "cell_type": "code",
   "execution_count": null,
   "metadata": {
    "collapsed": true
   },
   "outputs": [],
   "source": []
  },
  {
   "cell_type": "markdown",
   "metadata": {},
   "source": [
    "### Предобработка"
   ]
  },
  {
   "cell_type": "markdown",
   "metadata": {},
   "source": [
    "Настройте токенизатор (можно использовать nltk см. семинар 1), очистите тексты от мусора, чисел (попробуйте заменить их на 00) и т.п."
   ]
  },
  {
   "cell_type": "code",
   "execution_count": null,
   "metadata": {
    "collapsed": true
   },
   "outputs": [],
   "source": []
  },
  {
   "cell_type": "markdown",
   "metadata": {},
   "source": [
    " "
   ]
  },
  {
   "cell_type": "markdown",
   "metadata": {
    "deletable": true,
    "editable": true
   },
   "source": [
    " "
   ]
  },
  {
   "cell_type": "markdown",
   "metadata": {
    "deletable": true,
    "editable": true
   },
   "source": [
    " "
   ]
  },
  {
   "cell_type": "markdown",
   "metadata": {},
   "source": [
    "## Бонус: классификация твитов"
   ]
  },
  {
   "cell_type": "markdown",
   "metadata": {},
   "source": [
    "Вам понадобится установить библиотеку tweepy и зарегистрировать приложение на сайте twitter (это бесплатно)"
   ]
  },
  {
   "cell_type": "raw",
   "metadata": {},
   "source": [
    "conda install tweepy  --- если у вас анаконда\n",
    "pip install tweepy    --- если у вас чистый питон"
   ]
  },
  {
   "cell_type": "code",
   "execution_count": 321,
   "metadata": {
    "collapsed": false
   },
   "outputs": [
    {
     "name": "stdout",
     "output_type": "stream",
     "text": [
      "sigma 1/2017 - Getting to grips with cyber risk | Swiss Re - Leading Global Reinsurer https://t.co/rlU1KQkLBa\n",
      "====================================================================================================\n",
      "iPhone標準のカレンダーとgoogleカレンダーを同期させる一番便利で簡単な方法（複数のカレンダーのアカウント共有可） - AppBank https://t.co/IvDOZeKmM9 #sapporo #hokkaido\n",
      "====================================================================================================\n",
      "Is it smart to have an $800 iPhone with no case? I'm just asking because apparently it's not as common sense as it seems.\n",
      "====================================================================================================\n",
      "Enter to win either a NEW Galaxy S7 Edge or iPhone 7! @JoshOG @TingFTW https://t.co/S3381JW34T #JoshOGTing\n",
      "====================================================================================================\n",
      "RT @WhitneySavage76: https://t.co/A1Uq1z6JoD\n",
      "====================================================================================================\n",
      "RT @goes54667752: ［iPhone 食パンケース］スマートフォンケースも最近は背面ケースではなく、手帳型が主流になった感があります。手から滑り落ちたりした時の安心感が違うとか。要するに折れて包み込めばいいんですよね。 https://t.co/SpEkmsYQOX\n",
      "====================================================================================================\n",
      "これは必須ですわな。私も『イーーーッ(#｀皿´)！！！！』てなったw\n",
      "\n",
      "【LINE】既読にしても通知バッジの数字が消えない問題が発生中（iPhone版LINE 7.1.0アップデート）※対策手順あり https://t.co/ZVLnxObKl5\n",
      "====================================================================================================\n",
      "コメ来るまで無言、基本無言モイ！iPhoneからキャス配信中 - https://t.co/zfnrIprN4Q #初見さん大歓迎！コメントください！誰でも気軽にどうぞ\n",
      "====================================================================================================\n",
      "gente que comprou um iphone 6 ano passado e ja ta querendo um novo, eu to com um moto g 1 desde 2014 e to lidando\n",
      "====================================================================================================\n",
      "RT @LassiChristian: Cuando mi cabron iPhone no reconoce mi huella https://t.co/DVygliCgIh\n",
      "====================================================================================================\n",
      "デレステはじめからやり直します。タブレットの方ね。iPhoneの方は📱そのまま残す(笑'\n",
      "====================================================================================================\n",
      "auの新料金「スーパーカケホ」で5分以内の通話が無料！+データ定額1Gが選択可能になりました！毎月の料金がお得になる！？是非当店にご相談下さい！無料で診断致します！ #au #docomo #SoftBank #iPhone #スーパーカケホ\n",
      "====================================================================================================\n",
      "RT @knotscream: 目覚ましアラームを寝る直前にオンにする人なのでandroid時代はアラーム◯時間後にセットしましたって表示されていたから「うおー俺は◯時間寝るんじゃ〜」って気持ちになっていたけれどiPhoneになって◯時間後って言われなくなったからなんとなく寝て…\n",
      "====================================================================================================\n",
      "Got the iPhone 7. Diandra and I had the same exact phone AGAIN\n",
      "====================================================================================================\n",
      "В Apple iPhone 8 не будет интерфейса Lightning - https://t.co/dOxtAMpUSv\n",
      "====================================================================================================\n",
      "RT @AamerISmad: Obama Administration Rushed to Preserve Intelligence of Russian Election Hacking, via @nytimes https://t.co/dGpkrjUqXx\n",
      "====================================================================================================\n",
      "疲れがなかなか取れない方へ。足裏マッサージですっきり元気に！　『いつでも どこでも かんたん フットマッサージ』 　https://t.co/doa7WnmOe1 #電子書籍 #iPhone #健康 #バレンタイン #ランキング\n",
      "====================================================================================================\n",
      "iPhone用　有料アプリ　ファイナンス部門　第38位\n",
      "iスロットカウンターPro\n",
      "https://t.co/EULr4pErYW\n",
      "TunesRewindでトップセールスAppトップ有料Appに選ばた...\n",
      "#ファイナンス #アプリ https://t.co/HU2aaz5JRI\n",
      "====================================================================================================\n",
      "RT @jdawsey1: Fascinating, detailed story: Obama Administration Rushed to Preserve Intelligence of Russian Election Hacking:\n",
      " https://t.co/…\n",
      "====================================================================================================\n",
      "Angel Rhinestone Crystal Handmade Finished Case cover for Iphone 6 6S plus 5.5 D https://t.co/G85b9DGjzn https://t.co/TVcZkoGTmQ\n",
      "====================================================================================================\n"
     ]
    }
   ],
   "source": [
    "# Простой пример кода, позволяющего стримить твиттер\n",
    "\n",
    "from tweepy import Stream\n",
    "from tweepy import OAuthHandler\n",
    "from tweepy.streaming import StreamListener\n",
    "import json\n",
    "\n",
    "# Чтобы пользоваться api twitter, зарегистрируйтесь и создайте новое приложение на сайте twitter\n",
    "# и впишите полученные consumer key, consumer secret, access token, access secret сюда.\n",
    "#ckey = \"\"\n",
    "#csecret = \"\"\n",
    "#atoken = \"\"\n",
    "#asecret = \"\"\n",
    "\n",
    "# Здесь я импортирую свои credentials из своего файла. Вам эта строчка не нужна.\n",
    "#from twitter_settings import ckey, csecret, atoken, asecret\n",
    "\n",
    "# Сюда будем складывать твиты.\n",
    "tweets = []\n",
    "\n",
    "class listener(StreamListener):\n",
    "    def on_data(self, data):\n",
    "        all_data = json.loads(data)\n",
    "        tweet = all_data[\"text\"]\n",
    "        tweets.append(tweet)\n",
    "        print(tweet)\n",
    "        print(\"=\"*100)\n",
    "        return(True if len(tweets) < 20 else False)\n",
    "\n",
    "    def on_error(self, status):\n",
    "        print(status)\n",
    "\n",
    "auth = OAuthHandler(ckey, csecret)\n",
    "auth.set_access_token(atoken, asecret)\n",
    "\n",
    "twitterStream = Stream(auth, listener())\n",
    "twitterStream.filter(track=[\"iphone\"])"
   ]
  },
  {
   "cell_type": "code",
   "execution_count": 324,
   "metadata": {
    "collapsed": false
   },
   "outputs": [
    {
     "name": "stdout",
     "output_type": "stream",
     "text": [
      "0.968848880498 \t sigma 1/2017 - Getting to grips with cyber risk | Swiss Re - Leading Global Reinsurer https://t.co/rlU1KQkLBa \n",
      "\n",
      "0.320035332657 \t iPhone標準のカレンダーとgoogleカレンダーを同期させる一番便利で簡単な方法（複数のカレンダーのアカウント共有可） - AppBank https://t.co/IvDOZeKmM9 #sapporo #hokkaido \n",
      "\n",
      "0.00458457191432 \t Is it smart to have an $800 iPhone with no case? I'm just asking because apparently it's not as common sense as it seems. \n",
      "\n",
      "0.999993342291 \t Enter to win either a NEW Galaxy S7 Edge or iPhone 7! @JoshOG @TingFTW https://t.co/S3381JW34T #JoshOGTing \n",
      "\n",
      "0.320035332657 \t RT @WhitneySavage76: https://t.co/A1Uq1z6JoD \n",
      "\n",
      "0.989425109124 \t RT @goes54667752: ［iPhone 食パンケース］スマートフォンケースも最近は背面ケースではなく、手帳型が主流になった感があります。手から滑り落ちたりした時の安心感が違うとか。要するに折れて包み込めばいいんですよね。 https://t.co/SpEkmsYQOX \n",
      "\n",
      "0.784190855844 \t これは必須ですわな。私も『イーーーッ(#｀皿´)！！！！』てなったw\n",
      "\n",
      "【LINE】既読にしても通知バッジの数字が消えない問題が発生中（iPhone版LINE 7.1.0アップデート）※対策手順あり https://t.co/ZVLnxObKl5 \n",
      "\n",
      "0.320035332657 \t コメ来るまで無言、基本無言モイ！iPhoneからキャス配信中 - https://t.co/zfnrIprN4Q #初見さん大歓迎！コメントください！誰でも気軽にどうぞ \n",
      "\n",
      "0.633488863887 \t gente que comprou um iphone 6 ano passado e ja ta querendo um novo, eu to com um moto g 1 desde 2014 e to lidando \n",
      "\n",
      "0.484784310581 \t RT @LassiChristian: Cuando mi cabron iPhone no reconoce mi huella https://t.co/DVygliCgIh \n",
      "\n",
      "0.320035332657 \t デレステはじめからやり直します。タブレットの方ね。iPhoneの方は📱そのまま残す(笑' \n",
      "\n",
      "0.989425109124 \t auの新料金「スーパーカケホ」で5分以内の通話が無料！+データ定額1Gが選択可能になりました！毎月の料金がお得になる！？是非当店にご相談下さい！無料で診断致します！ #au #docomo #SoftBank #iPhone #スーパーカケホ \n",
      "\n",
      "0.320035332657 \t RT @knotscream: 目覚ましアラームを寝る直前にオンにする人なのでandroid時代はアラーム◯時間後にセットしましたって表示されていたから「うおー俺は◯時間寝るんじゃ〜」って気持ちになっていたけれどiPhoneになって◯時間後って言われなくなったからなんとなく寝て… \n",
      "\n",
      "0.99997914536 \t Got the iPhone 7. Diandra and I had the same exact phone AGAIN \n",
      "\n",
      "0.989425109124 \t В Apple iPhone 8 не будет интерфейса Lightning - https://t.co/dOxtAMpUSv \n",
      "\n",
      "0.00233132888176 \t RT @AamerISmad: Obama Administration Rushed to Preserve Intelligence of Russian Election Hacking, via @nytimes https://t.co/dGpkrjUqXx \n",
      "\n",
      "0.989425109124 \t 疲れがなかなか取れない方へ。足裏マッサージですっきり元気に！　『いつでも どこでも かんたん フットマッサージ』 　https://t.co/doa7WnmOe1 #電子書籍 #iPhone #健康 #バレンタイン #ランキング \n",
      "\n",
      "0.320035332657 \t iPhone用　有料アプリ　ファイナンス部門　第38位\n",
      "iスロットカウンターPro\n",
      "https://t.co/EULr4pErYW\n",
      "TunesRewindでトップセールスAppトップ有料Appに選ばた...\n",
      "#ファイナンス #アプリ https://t.co/HU2aaz5JRI \n",
      "\n",
      "0.1180638711 \t RT @jdawsey1: Fascinating, detailed story: Obama Administration Rushed to Preserve Intelligence of Russian Election Hacking:\n",
      " https://t.co/… \n",
      "\n",
      "0.999087281052 \t Angel Rhinestone Crystal Handmade Finished Case cover for Iphone 6 6S plus 5.5 D https://t.co/G85b9DGjzn https://t.co/TVcZkoGTmQ \n",
      "\n"
     ]
    }
   ],
   "source": [
    "# Воспользуемся обученным ранее классификатором для оценки тональности твита.\n",
    "probs = cls.predict_proba(vectorizer.transform(tweets))[:,1]\n",
    "for t, p in zip(tweets, probs):\n",
    "    print(p, '\\t', t, '\\n')"
   ]
  },
  {
   "cell_type": "markdown",
   "metadata": {},
   "source": [
    "## Классификация сообщений вконтакте"
   ]
  },
  {
   "cell_type": "markdown",
   "metadata": {},
   "source": [
    "В качестве эксперимента можете обучить классификатор на русском датасете и применить его к своим сообщениям из ВКонтакте: попробуйте найти самые негативные и позитивные из них по мнению классификатора<br/>\n",
    "Датасет: http://study.mokoron.com<br/>\n",
    "API: https://vk.com/dev/messages.getHistory<br/>"
   ]
  },
  {
   "cell_type": "code",
   "execution_count": null,
   "metadata": {
    "collapsed": true
   },
   "outputs": [],
   "source": []
  },
  {
   "cell_type": "markdown",
   "metadata": {},
   "source": [
    "## Другие интересные датасеты"
   ]
  },
  {
   "cell_type": "markdown",
   "metadata": {},
   "source": [
    "Тональность отзывов на кинофильмы. <br/>\n",
    "Есть отзывы на несколько предложений, есть разметка отдельных предложений, есть разметка предложений на эмоционально окрашенные и не окрашенные. Это может помочь с твиттером.<br/>\n",
    "https://www.cs.cornell.edu/people/pabo/movie-review-data/"
   ]
  },
  {
   "cell_type": "markdown",
   "metadata": {},
   "source": [
    "Классификация вопросов по типу<br/>\n",
    "http://cogcomp.cs.illinois.edu/Data/QA/QC/"
   ]
  },
  {
   "cell_type": "markdown",
   "metadata": {},
   "source": [
    "Reuters - классификация статей<br/>\n",
    "https://archive.ics.uci.edu/ml/datasets/Reuters-21578+Text+Categorization+Collection"
   ]
  }
 ],
 "metadata": {
  "kernelspec": {
   "display_name": "Python 3",
   "language": "python",
   "name": "python3"
  },
  "language_info": {
   "codemirror_mode": {
    "name": "ipython",
    "version": 3
   },
   "file_extension": ".py",
   "mimetype": "text/x-python",
   "name": "python",
   "nbconvert_exporter": "python",
   "pygments_lexer": "ipython3",
   "version": "3.6.0"
  }
 },
 "nbformat": 4,
 "nbformat_minor": 2
}
